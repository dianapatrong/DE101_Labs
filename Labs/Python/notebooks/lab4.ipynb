{
 "cells": [
  {
   "cell_type": "markdown",
   "id": "6d58768d-5675-4832-a87a-753f91ddb0ff",
   "metadata": {},
   "source": [
    "# Python Lab4: Pandas Basics"
   ]
  },
  {
   "cell_type": "markdown",
   "id": "816b6fd3-c400-47ee-99b2-3909e99e6647",
   "metadata": {},
   "source": [
    "## Install pandas "
   ]
  },
  {
   "cell_type": "code",
   "execution_count": 1,
   "id": "0c27764c-1e8d-4677-ba9e-fd3539d4320c",
   "metadata": {},
   "outputs": [
    {
     "name": "stdout",
     "output_type": "stream",
     "text": [
      "Requirement already satisfied: pandas==1.5.0 in /opt/conda/lib/python3.10/site-packages (1.5.0)\n",
      "Requirement already satisfied: python-dateutil>=2.8.1 in /opt/conda/lib/python3.10/site-packages (from pandas==1.5.0) (2.8.2)\n",
      "Requirement already satisfied: pytz>=2020.1 in /opt/conda/lib/python3.10/site-packages (from pandas==1.5.0) (2022.4)\n",
      "Requirement already satisfied: numpy>=1.21.0 in /opt/conda/lib/python3.10/site-packages (from pandas==1.5.0) (1.23.3)\n",
      "Requirement already satisfied: six>=1.5 in /opt/conda/lib/python3.10/site-packages (from python-dateutil>=2.8.1->pandas==1.5.0) (1.16.0)\n"
     ]
    }
   ],
   "source": [
    "!pip install pandas==1.5.0"
   ]
  },
  {
   "cell_type": "code",
   "execution_count": null,
   "id": "1fbb94bc-dea3-4783-84f5-c06011487e27",
   "metadata": {},
   "outputs": [],
   "source": []
  }
 ],
 "metadata": {
  "kernelspec": {
   "display_name": "Python 3 (ipykernel)",
   "language": "python",
   "name": "python3"
  },
  "language_info": {
   "codemirror_mode": {
    "name": "ipython",
    "version": 3
   },
   "file_extension": ".py",
   "mimetype": "text/x-python",
   "name": "python",
   "nbconvert_exporter": "python",
   "pygments_lexer": "ipython3",
   "version": "3.10.6"
  }
 },
 "nbformat": 4,
 "nbformat_minor": 5
}
