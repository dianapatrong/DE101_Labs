{
 "cells": [
  {
   "cell_type": "markdown",
   "id": "6ee4f964-5a5a-41b8-9b28-1e0287064e7a",
   "metadata": {},
   "source": [
    "# Python Lab3: Numpy"
   ]
  },
  {
   "cell_type": "markdown",
   "id": "472077bc-be69-478b-8064-e393d33413fb",
   "metadata": {},
   "source": [
    "## Install numpy "
   ]
  },
  {
   "cell_type": "code",
   "execution_count": 2,
   "id": "afad91e9-7f11-4f4b-bdf6-47eb680f4f08",
   "metadata": {},
   "outputs": [
    {
     "name": "stdout",
     "output_type": "stream",
     "text": [
      "Requirement already satisfied: numpy==1.23.3 in /opt/conda/lib/python3.10/site-packages (1.23.3)\n"
     ]
    }
   ],
   "source": [
    "!pip install numpy==1.23.3 "
   ]
  },
  {
   "cell_type": "markdown",
   "id": "b549310a-38f2-4db2-8f8b-f20b92fd1fa8",
   "metadata": {},
   "source": [
    "## Exercise 1\n",
    "Import numpy and print its version"
   ]
  },
  {
   "cell_type": "code",
   "execution_count": null,
   "id": "2fc2aeac-af25-428d-b498-904eb811db04",
   "metadata": {},
   "outputs": [],
   "source": []
  },
  {
   "cell_type": "markdown",
   "id": "6128bfb4-e3ac-47cb-973e-10cdd0d28270",
   "metadata": {},
   "source": [
    "## Exercise 2 \n",
    "Create a 1D array of numbers from 0 to 9 "
   ]
  },
  {
   "cell_type": "code",
   "execution_count": null,
   "id": "4831bd98-d76d-4166-b4f1-1ac33d023630",
   "metadata": {},
   "outputs": [],
   "source": []
  },
  {
   "cell_type": "markdown",
   "id": "1950869a-1cd7-4554-9b0d-add7b70b9d0d",
   "metadata": {},
   "source": [
    "## Exercise 3\n",
    "From the 1D array of numbers from 0 to 9, extract odd numbers"
   ]
  },
  {
   "cell_type": "code",
   "execution_count": null,
   "id": "885b7cd8-5944-4e7c-89ac-e1c6c90a9d91",
   "metadata": {},
   "outputs": [],
   "source": []
  },
  {
   "cell_type": "markdown",
   "id": "b613b228-0cc2-4250-afed-866682d56b44",
   "metadata": {},
   "source": [
    "## Exercise 4\n",
    "From the 1D array of numbers from 0 to 9, replace all the odd numbers with `-1` "
   ]
  },
  {
   "cell_type": "code",
   "execution_count": null,
   "id": "60a004bf-e808-4624-82dd-e2fbbbeda7b5",
   "metadata": {},
   "outputs": [],
   "source": []
  },
  {
   "cell_type": "markdown",
   "id": "d01393e6-c212-4264-83dc-e86c13de2491",
   "metadata": {},
   "source": [
    "## Exercise 5\n",
    "From the 1D array of numbers from 0 to 9, replace all the odd numbers with `-1` without changing the original array"
   ]
  },
  {
   "cell_type": "code",
   "execution_count": null,
   "id": "602feeb8-e65f-4801-a5f3-e6760eac2016",
   "metadata": {},
   "outputs": [],
   "source": []
  },
  {
   "cell_type": "markdown",
   "id": "41bb3e47-ebdb-4f44-8081-eeff92207ae8",
   "metadata": {},
   "source": [
    "## Exercise 6\n",
    "Get common items between `a` and `b` \n",
    "\n",
    "```python\n",
    "a = np.array([1,2,3,2,3,4,3,4,5,6])\n",
    "b = np.array([7,2,10,2,7,4,9,4,9,8])\n",
    "```"
   ]
  },
  {
   "cell_type": "code",
   "execution_count": null,
   "id": "95fd9fb6-665f-42e9-a209-3153ab43384b",
   "metadata": {},
   "outputs": [],
   "source": []
  },
  {
   "cell_type": "markdown",
   "id": "6fe9d9eb-047d-4f47-96d7-c1985f06ab10",
   "metadata": {},
   "source": [
    "## Exercise 7 \n",
    "Get all items between 5 and 10 from `a`. \n",
    "\n",
    "```python \n",
    "a = np.arange(15)\n",
    "```"
   ]
  },
  {
   "cell_type": "code",
   "execution_count": null,
   "id": "cc91e9fb-5368-4268-a1aa-7f4fbd94f95f",
   "metadata": {},
   "outputs": [],
   "source": []
  },
  {
   "cell_type": "markdown",
   "id": "1f06cafd-5bd9-40b6-b7cf-5d28a1ac9da2",
   "metadata": {},
   "source": [
    "## Exercise 8\n",
    "Given two numpy arrays, calculate the element-wise addition.\n",
    "\n",
    "```python\n",
    "a = np.array([[1,2,3],\n",
    "              [4,5,6]])\n",
    "\n",
    "b = np.array([[10,11,12],\n",
    "              [13,14,15]])\n",
    "```"
   ]
  },
  {
   "cell_type": "code",
   "execution_count": null,
   "id": "ed8ac7f0-54a5-4082-b564-506ca3c4120b",
   "metadata": {},
   "outputs": [],
   "source": []
  },
  {
   "cell_type": "markdown",
   "id": "aabcd339-db7c-4388-b5fb-6e4903a9eab9",
   "metadata": {},
   "source": [
    "## Exercise 9\n",
    "Given a numpy array, multiply the array by a scalar `2`\n",
    "\n",
    "``` python\n",
    "a = np.array([[1,2,3],\n",
    "              [4,5,6]])\n",
    "```"
   ]
  },
  {
   "cell_type": "code",
   "execution_count": null,
   "id": "12f34b6f-7e71-4f99-a8a0-0230bf69e54e",
   "metadata": {},
   "outputs": [],
   "source": []
  },
  {
   "cell_type": "markdown",
   "id": "aa334c83-cc99-480c-b795-9479dec96f48",
   "metadata": {},
   "source": [
    "## Exercise 10\n",
    "Convert all the elements of a numpy array from float to integer \n",
    "```python\n",
    "a = np.array([[2.5, 3.8, 1.5],\n",
    "              [4.7, 2.9, 1.56]])\n",
    "```"
   ]
  },
  {
   "cell_type": "code",
   "execution_count": null,
   "id": "a9927f91-3eb6-4c1a-96e0-feb8bedb5b69",
   "metadata": {},
   "outputs": [],
   "source": []
  },
  {
   "cell_type": "markdown",
   "id": "3c091f73-65cf-463d-9777-e6ad72c0c2e0",
   "metadata": {},
   "source": [
    "## Exercise 11\n",
    "From 2 numpy arrays, extract the indexes in which the elements in the 2 arrays match\n",
    "\n",
    "```python\n",
    "a = np.array([1,2,3,4,5])\n",
    "b = np.array([1,3,2,4,5])\n",
    "```\n"
   ]
  },
  {
   "cell_type": "code",
   "execution_count": null,
   "id": "d927fd77-dcf5-4863-9841-f3b14b90148e",
   "metadata": {},
   "outputs": [],
   "source": []
  }
 ],
 "metadata": {
  "kernelspec": {
   "display_name": "Python 3 (ipykernel)",
   "language": "python",
   "name": "python3"
  },
  "language_info": {
   "codemirror_mode": {
    "name": "ipython",
    "version": 3
   },
   "file_extension": ".py",
   "mimetype": "text/x-python",
   "name": "python",
   "nbconvert_exporter": "python",
   "pygments_lexer": "ipython3",
   "version": "3.10.6"
  }
 },
 "nbformat": 4,
 "nbformat_minor": 5
}
